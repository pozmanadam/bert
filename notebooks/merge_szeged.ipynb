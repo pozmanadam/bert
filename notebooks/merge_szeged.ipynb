{
 "cells": [
  {
   "cell_type": "code",
   "execution_count": 7,
   "metadata": {},
   "outputs": [],
   "source": [
    "import os\n",
    "\n",
    "data_path = \"D:/Data/neural-punctuator/szeged/\" #os.environ['DATA_PATH']\n",
    "file_path = os.path.join(data_path, \"szeged.allChunks.newKr.unshuffled\")"
   ]
  },
  {
   "cell_type": "code",
   "execution_count": 19,
   "metadata": {},
   "outputs": [],
   "source": [
    "with open(file_path, 'r', encoding='utf-8') as f:\n",
    "    tokens = [line.split('\\t')[0] for line in f.readlines()]\n",
    "text = \" \".join(tokens)"
   ]
  },
  {
   "cell_type": "code",
   "execution_count": 20,
   "metadata": {},
   "outputs": [
    {
     "data": {
      "text/plain": [
       "'Múlt év szeptemberében az osztállyal elmentünk kirándulni a Balatonra . \\n A szállásunk egy Balaton melletti kis üdülőfaluban , Zamárdiban volt , a Postának az üdülőházában . \\n Pénteki napon indultunk kora hajnalban . \\n Mivel a barátnőm , Kata nem barcsi , ezért ott aludt nálunk . \\n Az osztály már csütörtökön teljesen fel volt villanyozva arra a gondolatra , hogy holnap már Zamárdiban leszünk és úszkálunk a Balatonban . \\n Természetesen az előkészületek - helyfoglalás , jegymegvétel - alatt is már mindenki arról álmodozott , hogy milyen lesz a hely , a közösség , ki mit fog csinálni . \\n Az ötlet , hogy Zamárdiba menjünk kirándulni , osztályfőnökünktől , Zoli bácsitól származott , ugyanis a felesége is oda vitte kirándulni az osztályát , kétszer is . \\n Zoli bácsi hozott fényképeket , amelyeket a felesége készített . \\n Rajta volt a postás üdülő - mert mi csak így neveztük - és a környék is . \\n Mint írtam , péntek hajnalban indult a vonatunk 5.15 kor , amit mi majdnem lekéstünk , mert anyu '"
      ]
     },
     "execution_count": 20,
     "metadata": {},
     "output_type": "execute_result"
    }
   ],
   "source": [
    "text[:1000]"
   ]
  },
  {
   "cell_type": "code",
   "execution_count": 21,
   "metadata": {},
   "outputs": [],
   "source": [
    "remove_space_before = [',', '?', '.', '!', '\\n']\n",
    "for c in remove_space_before:\n",
    "    text = text.replace(' ' + c, c)"
   ]
  },
  {
   "cell_type": "code",
   "execution_count": 22,
   "metadata": {},
   "outputs": [
    {
     "data": {
      "text/plain": [
       "'Múlt év szeptemberében az osztállyal elmentünk kirándulni a Balatonra.\\n A szállásunk egy Balaton melletti kis üdülőfaluban, Zamárdiban volt, a Postának az üdülőházában.\\n Pénteki napon indultunk kora hajnalban.\\n Mivel a barátnőm, Kata nem barcsi, ezért ott aludt nálunk.\\n Az osztály már csütörtökön teljesen fel volt villanyozva arra a gondolatra, hogy holnap már Zamárdiban leszünk és úszkálunk a Balatonban.\\n Természetesen az előkészületek - helyfoglalás, jegymegvétel - alatt is már mindenki arról álmodozott, hogy milyen lesz a hely, a közösség, ki mit fog csinálni.\\n Az ötlet, hogy Zamárdiba menjünk kirándulni, osztályfőnökünktől, Zoli bácsitól származott, ugyanis a felesége is oda vitte kirándulni az osztályát, kétszer is.\\n Zoli bácsi hozott fényképeket, amelyeket a felesége készített.\\n Rajta volt a postás üdülő - mert mi csak így neveztük - és a környék is.\\n Mint írtam, péntek hajnalban indult a vonatunk 5.15 kor, amit mi majdnem lekéstünk, mert anyu későn ébresztett és mi elég messze l'"
      ]
     },
     "execution_count": 22,
     "metadata": {},
     "output_type": "execute_result"
    }
   ],
   "source": [
    "text[:1000]"
   ]
  },
  {
   "cell_type": "code",
   "execution_count": 24,
   "metadata": {},
   "outputs": [],
   "source": [
    "with open(data_path + \"szeged.txt\", 'w', encoding='utf-8') as f:\n",
    "    f.write(text)"
   ]
  },
  {
   "cell_type": "code",
   "execution_count": null,
   "metadata": {},
   "outputs": [],
   "source": []
  }
 ],
 "metadata": {
  "kernelspec": {
   "display_name": "Python 3",
   "language": "python",
   "name": "python3"
  },
  "language_info": {
   "codemirror_mode": {
    "name": "ipython",
    "version": 3
   },
   "file_extension": ".py",
   "mimetype": "text/x-python",
   "name": "python",
   "nbconvert_exporter": "python",
   "pygments_lexer": "ipython3",
   "version": "3.8.5"
  }
 },
 "nbformat": 4,
 "nbformat_minor": 4
}
