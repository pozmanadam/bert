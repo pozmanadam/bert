{
 "cells": [
  {
   "cell_type": "code",
   "execution_count": 69,
   "metadata": {},
   "outputs": [],
   "source": [
    "import os\n",
    "import xml.etree.ElementTree as ET\n",
    "import re"
   ]
  },
  {
   "cell_type": "markdown",
   "metadata": {},
   "source": [
    "# Dev set"
   ]
  },
  {
   "cell_type": "code",
   "execution_count": 34,
   "metadata": {},
   "outputs": [],
   "source": [
    "data_path = \"D:/Data/neural-punctuator/ted-talks/\"\n",
    "file_path = data_path + \"IWSLT12.TALK.dev2010.en-fr.en.xml\" #\"train.tags.en-fr.en\""
   ]
  },
  {
   "cell_type": "code",
   "execution_count": 36,
   "metadata": {},
   "outputs": [],
   "source": [
    "xmlp = ET.XMLParser(encoding=\"utf-8\")\n",
    "tree = ET.parse(file_path, parser=xmlp)\n",
    "root = tree.getroot()"
   ]
  },
  {
   "cell_type": "code",
   "execution_count": 44,
   "metadata": {},
   "outputs": [
    {
     "name": "stdout",
     "output_type": "stream",
     "text": [
      "srcset {'setid': 'iwslt2012-dev2010', 'srclang': 'english'}\n"
     ]
    }
   ],
   "source": [
    "for child in root:\n",
    "    print(child.tag, child.attrib)"
   ]
  },
  {
   "cell_type": "code",
   "execution_count": 64,
   "metadata": {},
   "outputs": [],
   "source": [
    "docs = []\n",
    "\n",
    "for doc_id in range(len(root[0])):\n",
    "    doc_segs = []\n",
    "    doc = root[0][doc_id]\n",
    "    for seg in doc.iter('seg'):\n",
    "        doc_segs.append(seg.text)\n",
    "    docs.append(doc_segs)"
   ]
  },
  {
   "cell_type": "code",
   "execution_count": 72,
   "metadata": {},
   "outputs": [],
   "source": [
    "dev_texts = [re.sub(r'\\s+', ' ', ''.join(d)).strip() for d in docs]"
   ]
  },
  {
   "cell_type": "code",
   "execution_count": 78,
   "metadata": {},
   "outputs": [],
   "source": [
    "with open(data_path + 'dev_texts.txt', 'w', encoding='utf-8') as f:\n",
    "    for text in dev_texts:\n",
    "        f.write(text + '\\n')"
   ]
  },
  {
   "cell_type": "markdown",
   "metadata": {},
   "source": [
    "# Test set 2012"
   ]
  },
  {
   "cell_type": "code",
   "execution_count": 88,
   "metadata": {},
   "outputs": [],
   "source": [
    "file_path = data_path + \"IWSLT12.TED.MT.tst2012.en-fr.en.xml\"\n",
    "\n",
    "xmlp = ET.XMLParser(encoding=\"utf-8\")\n",
    "tree = ET.parse(file_path, parser=xmlp)\n",
    "root = tree.getroot()"
   ]
  },
  {
   "cell_type": "code",
   "execution_count": 89,
   "metadata": {},
   "outputs": [],
   "source": [
    "docs = []\n",
    "\n",
    "for doc_id in range(len(root[0])):\n",
    "    doc_segs = []\n",
    "    doc = root[0][doc_id]\n",
    "    for seg in doc.iter('seg'):\n",
    "        doc_segs.append(seg.text)\n",
    "    docs.append(doc_segs)\n",
    "\n",
    "test_texts_2012 = [re.sub(r'\\s+', ' ', ''.join(d)).strip() for d in docs]\n",
    "\n",
    "with open(data_path + 'test_texts_2012.txt', 'w', encoding='utf-8') as f:\n",
    "    for text in test_texts_2012:\n",
    "        f.write(text + '\\n')"
   ]
  },
  {
   "cell_type": "markdown",
   "metadata": {},
   "source": [
    "# Train set"
   ]
  },
  {
   "cell_type": "code",
   "execution_count": 93,
   "metadata": {},
   "outputs": [],
   "source": [
    "file_path = data_path + \"train.tags.en-fr.en\"\n",
    "\n",
    "\"\"\" Wrap original file to make it processable with defualt python parser\n",
    "<?xml version=\"1.0\" encoding=\"UTF-8\"?>\n",
    "<mteval>\n",
    "...\n",
    "</mteval>\n",
    "\"\"\"\n",
    "xmlp = ET.XMLParser(encoding=\"utf-8\")\n",
    "tree = ET.parse(file_path, parser=xmlp)\n",
    "root = tree.getroot()"
   ]
  },
  {
   "cell_type": "code",
   "execution_count": 109,
   "metadata": {},
   "outputs": [],
   "source": [
    "docs = []\n",
    "\n",
    "for doc in root.iter('transcript'):\n",
    "    docs.append(doc.text)"
   ]
  },
  {
   "cell_type": "code",
   "execution_count": 113,
   "metadata": {},
   "outputs": [],
   "source": [
    "train_texts = [re.sub(r'\\s+', ' ', d.replace('\\n', ' ')).strip() for d in docs]\n",
    "\n",
    "with open(data_path + 'train_texts.txt', 'w', encoding='utf-8') as f:\n",
    "    for text in train_texts:\n",
    "        f.write(text + '\\n')"
   ]
  },
  {
   "cell_type": "code",
   "execution_count": null,
   "metadata": {},
   "outputs": [],
   "source": []
  }
 ],
 "metadata": {
  "kernelspec": {
   "display_name": "Python 3",
   "language": "python",
   "name": "python3"
  },
  "language_info": {
   "codemirror_mode": {
    "name": "ipython",
    "version": 3
   },
   "file_extension": ".py",
   "mimetype": "text/x-python",
   "name": "python",
   "nbconvert_exporter": "python",
   "pygments_lexer": "ipython3",
   "version": "3.8.5"
  }
 },
 "nbformat": 4,
 "nbformat_minor": 4
}
