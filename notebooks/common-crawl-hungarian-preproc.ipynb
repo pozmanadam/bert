{
 "cells": [
  {
   "cell_type": "code",
   "execution_count": 1,
   "metadata": {},
   "outputs": [],
   "source": [
    "import pandas as pd"
   ]
  },
  {
   "cell_type": "code",
   "execution_count": 69,
   "metadata": {},
   "outputs": [],
   "source": [
    "example_data_path = '../data/2017_2018_0001.tsv'\n",
    "punctuations = ['.', ',', '!', '?', ':', '-', ';']\n",
    "with open(example_data_path) as file:\n",
    "    docs = []\n",
    "    for line in file:\n",
    "        # New document\n",
    "        if line.startswith('# newdoc id'):\n",
    "            # Remove \\n from text\n",
    "            text = text.replace('\\n',' ').strip()\n",
    "            # Append previous document to docs, start reading next\n",
    "            if text:\n",
    "                docs.append(text)\n",
    "            text = ''\n",
    "        # Text corresponding to a document\n",
    "        if line.startswith('# text = '):\n",
    "            # Extract text content\n",
    "            #print(line_content)\n",
    "            line_content = line.split('# text = ')[1]\n",
    "            # Check if text ends with punctuation (we want to drop titles)\n",
    "            if line_content[-2] in punctuations:\n",
    "                text += line_content\n",
    "                \n",
    "#     '\\n'.join(docs)"
   ]
  },
  {
   "cell_type": "code",
   "execution_count": 88,
   "metadata": {},
   "outputs": [
    {
     "data": {
      "text/plain": [
       "'Ön üzletileg keres Szolár berendezések? Az IndustryStock termék és szolgáltatás keresőgépe csak a releváns találatokat kínálja fel Önnek Szolár berendezések. Itt a Szolár berendezések mellet további termékeket és szolgáltatásokat kereshet. Kérjen a Consolar Solare Energiesysteme GmbH-tól további termék-dokumentációkat vagy árakat a Szolár berendezések-ről. Küldjön egyszerűen a Consolar Solare Energiesysteme GmbH-nak egy e-mailt a mi e-mail űrlapunkkal.A Consolar Solare Energiesysteme GmbH szállítási programjában további termékeket is talál, mint a Hőszivattyúk, Szobakályhák és a Melegvíz készítő. További információkért a Szolár berendezések szervizéről vagy tartozékairól vegye fel kérjük a kötelezettség-mentes kapcsolatot a Bosch Solar Energy AG-val.A Bosch Solar Energy AG további termékeket is kínál, mint a Szoláris áram berendezések, Fényelektromos és a Szolár-rendszerek. Ha nagyobb az érdeklődése a Szolár berendezések iránt, küldjön a megajánló SolarWorld AG-nak egy üzenetet. Egyszerűen kattintson a zöld, \"kapcsolati adatokat megmutat\" gombra, írja be az üzenetét és küldje el.A SolarWorld AG további termékeket is szállít, mint a Váltóirányító, Szabadtéri berendezések és a Fényelektromos. Ha át akarja tekinteni a AkoTec Produktionsgesellschaft mbH összes, rendelkezésre álló Szolár berendezések-ét, kérjük, kattintson a kék, a \"szállítási programot megmutat\" linkre, vagy a AkoTec Produktionsgesellschaft mbH web-címére. Ha át akarja tekinteni a Arntjen Germany GmbH összes, rendelkezésre álló Szolár berendezések-ét, kérjük, használja a \"szállítási programot megmutat\" linket, vagy kattintson a Arntjen Germany GmbH web-címére. Kérjük, kattintson a \"kapcsolati adatokat megmutat\" linkre, és küldjön a Galaxy Energy GmbH-hoz egy üzenetet a Szolár berendezések-ről. Küldessen magának termék-mappákat és árakat.A Galaxy Energy GmbH felkínáló még többet is szállít, mint a Szolártermia, Szolár rendszerek szerelése és a Fényelektromos. További információkat a Szolár berendezések szervizéről vagy tartozékairól közvetlenül a Prefa Aluminiumprodukte GesmbH-nál kap.A Prefa Aluminiumprodukte GesmbH további termékeket is szállít, mint a Tetőfedő munkák, Ereszcsatornák és a Tetőszerkezetek. Ha szeretne a WERTHIE Michael Werner GmbH-tól a Szolár berendezések-vel kapcsolatban egy visszahívást, kattintson kérem a \"kapcsolati adatokat megmutat\" gombra, írja be az e-mail űrlapra az Ön kapcsolati adatait, és kattintson az \"elküld\"-re. A WERTHIE Michael Werner GmbH felkínáló rövid időn belül felveszi Önnel a kapcsolatot. Küldessen magának termék-mappákat és árakat a Szolár berendezések-ről közvetlenül a Loew Energy Systems e.K. ajánlattevőtől. A kapcsolati adatokat a telefon és fax-számokkal, továbbá egy e-mail űrlapot megtalálja, ha a \"kapcsolati adatokat megmutat\" zöld gombra kattint.A Loew Energy Systems e.K. további termékeket is szállít, mint a Szélerőmű kerekek, Fénytechnika és a Szolár-építés. Termék-mappákat és árakat kap a Szolár berendezések-ről, ha rákérdez a SRU Solar AG ajánlattevőnél.A SRU Solar AG felkínáló még többet is szállít, mint a Szolár tetők, Szolár-rendszerek és a Tartószerkezet tervezés. Küldessen magának termék-mappákat és árakat a Szolár berendezések-ről közvetlenül a Anton Diehl GmbH ajánlattevőtől. A kapcsolati adatokat a telefon és fax-számokkal, továbbá egy e-mail űrlapot megtalálja, ha a \"kapcsolati adatokat megmutat\" zöld gombra kattint.A Anton Diehl GmbH további termékeket is szállít, mint a Épületgépészet, Renoválás és a Gáz technika. Küldessen magának termék-mappákat és árakat a Szolár berendezések-ről közvetlenül a City Sol GmbH ajánlattevőtől. A kapcsolati adatokat a telefon és fax-számokkal, továbbá egy e-mail űrlapot megtalálja, ha a \"kapcsolati adatokat megmutat\" zöld gombra kattint. További információkért a Szolár berendezések szervizéről vagy tartozékairól vegye fel kérjük a kötelezettség-mentes kapcsolatot a Compress-Air Service GmbH-val.A Compress-Air Service GmbH további termékeket is szállít, mint a Préslevegő, Hideg-szárítók és a Sűrített levegő előkészítése. Ha nagyobb az érdeklődése a Szolár berendezések iránt, küldjön a megajánló DMG MORI SEIKI AKTIENGESELLSCHAFT-nak egy üzenetet. Egyszerűen kattintson a zöld, \"kapcsolati adatokat megmutat\" gombra, írja be az üzenetét és küldje el. További termékinformációkért a Szolár berendezések témában kérjük, vegye fel a kapcsolatot a D:V:P:GROUP®: UG-val.A D:V:P:GROUP®: UG további termékeket is kínál, mint a Pellet-fűtés, Szélenergia berendezések és a Napenergia technika. Ha át akarja tekinteni a Effekt Montage Service Podlich összes, rendelkezésre álló Szolár berendezések-ét, kérjük, használja a \"szállítási programot megmutat\" linket, vagy kattintson a Effekt Montage Service Podlich web-címére. Kérjen magának termék-mappákat és árakat a Szolár berendezések-ről közvetlenül a ELMATIC GmbH ajánlattevőtől. Küldjön egyszerűen a ELMATIC GmbH-nak egy e-mailt a mi e-mail űrlapunkkal. Az űrlapot megtalálja, ha a kék, \"kapcsolati adatokat megmutat\" linkre kattint.A ELMATIC GmbH további termékeket is kínál, mint a Energia management, Napenergia berendezések és a Vészáram-berendezések. További információkat a Szolár berendezések szervizéről vagy tartozékairól közvetlenül a Energy-Com GmbH-nál kap.A Energy-Com GmbH további termékeket is szállít, mint a Fűtés-rendszerek, Szolártechnika és a Lapkollektorok.'"
      ]
     },
     "execution_count": 88,
     "metadata": {},
     "output_type": "execute_result"
    }
   ],
   "source": [
    "docs[2499]"
   ]
  },
  {
   "cell_type": "code",
   "execution_count": null,
   "metadata": {},
   "outputs": [],
   "source": []
  }
 ],
 "metadata": {
  "kernelspec": {
   "display_name": "Python 3",
   "language": "python",
   "name": "python3"
  },
  "language_info": {
   "codemirror_mode": {
    "name": "ipython",
    "version": 3
   },
   "file_extension": ".py",
   "mimetype": "text/x-python",
   "name": "python",
   "nbconvert_exporter": "python",
   "pygments_lexer": "ipython3",
   "version": "3.8.3"
  }
 },
 "nbformat": 4,
 "nbformat_minor": 4
}
